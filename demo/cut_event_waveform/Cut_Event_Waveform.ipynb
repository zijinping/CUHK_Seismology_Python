{
 "cells": [
  {
   "cell_type": "markdown",
   "metadata": {},
   "source": [
    "# Description\n",
    "This demo cut event waveform from day waveform based on absolute relocation results of Hyperinverse. The evlo, evla, evdp, stlo, stla, reference time will be write into the event sac files."
   ]
  },
  {
   "cell_type": "code",
   "execution_count": 1,
   "metadata": {},
   "outputs": [
    {
     "name": "stdout",
     "output_type": "stream",
     "text": [
      "Current working dirctory is:  /home/zijinping/Desktop/zijinping/lib/demo/cut_event_waveform\n"
     ]
    }
   ],
   "source": [
    "from utils.basic_utils import julday\n",
    "from utils.basic_utils import get_data\n",
    "import obspy\n",
    "from obspy import UTCDateTime\n",
    "import subprocess\n",
    "import os\n",
    "import re\n",
    "import shutil\n",
    "\n",
    "os.putenv(\"SAC_DISPLAY_COPYRIGHT\",'0')\n",
    "#Present working directory\n",
    "pwd = os.getcwd()\n",
    "print(\"Current working dirctory is: \",pwd)"
   ]
  },
  {
   "cell_type": "markdown",
   "metadata": {},
   "source": [
    "## Read in phase file and station file"
   ]
  },
  {
   "cell_type": "code",
   "execution_count": 2,
   "metadata": {},
   "outputs": [
    {
     "name": "stdout",
     "output_type": "stream",
     "text": [
      "Total event number is 1\n"
     ]
    }
   ],
   "source": [
    "phase_file = os.path.join(pwd,\"out.arc\") #Results of Hypoinvese\n",
    "sta_file = os.path.join(pwd,\"sta_loc.txt\") #Station file\n",
    "phs_content = []\n",
    "sta_list = {}\n",
    "event_qty = 0\n",
    "#Read in content of phase file\n",
    "with open(phase_file,\"r\") as f1:\n",
    "    for line in f1:\n",
    "        phs_content.append(line.rstrip())\n",
    "        if re.match(\"\\d+\",line[0:8]): #Event line e.g. \"20200604\"\n",
    "            event_qty += 1\n",
    "f1.close()\n",
    "print(f\"Total event number is {event_qty}\")\n",
    "#read station file\n",
    "with open(sta_file,\"r\") as f2:\n",
    "    for line in f2:\n",
    "        net_sta,stla,stlo,ele=re.split(\" +\",line.rstrip())\n",
    "        sta_list[net_sta[2:]]=[stla,stlo,ele]\n",
    "f2.close()"
   ]
  },
  {
   "cell_type": "markdown",
   "metadata": {},
   "source": [
    "## Below Cut waveform and write in information into sac files"
   ]
  },
  {
   "cell_type": "code",
   "execution_count": 3,
   "metadata": {},
   "outputs": [
    {
     "name": "stdout",
     "output_type": "stream",
     "text": [
      "process event 2020041805393842. Progress 1/1 \r"
     ]
    }
   ],
   "source": [
    "event_count = 0 #Count the event processed\n",
    "for line in phs_content:\n",
    "    if re.match(\"\\d+\",line[0:8]): \n",
    "        event_count += 1\n",
    "        year=line[0:4];month=line[4:6];day=line[6:8]\n",
    "        e_hr=line[8:10];e_min=line[10:12];e_seconds=line[12:14]+\".\"+line[14:16]+\"0\"\n",
    "        evla=float(line[16:18])+(float(line[19:21])+float(line[21:23])*0.01)/60\n",
    "        evlo=float(line[23:26])+(float(line[27:29])+float(line[29:31])*0.01)/60\n",
    "        evdp=float(line[32:36])/100; evid=str(int(line[136:146])).zfill(10)\n",
    "        print(f\"process event {line[0:16]}. Progress {event_count}/{event_qty} \",end = \"\\r\")\n",
    "        e_sec = float(e_seconds)\n",
    "        e_time = UTCDateTime(year+\"-\"+month+\"-\"+day+\"T\"+e_hr+\":\"+e_min+\":\"+\"00\")+e_sec\n",
    "        year = e_time.year; month = e_time.month; day = e_time.day\n",
    "        e_hr = e_time.hour;e_min = e_time.minute;e_sec = e_time.second; e_msec = int(e_time.microsecond/10000)\n",
    "        jday = julday(year,month,day)\n",
    "        jday = str(jday).zfill(3)\n",
    "        str_day = str(year)+str(month).zfill(2)+str(day).zfill(2)\n",
    "        str_time = str(e_hr).zfill(2)+str(e_min).zfill(2)+str(e_sec).zfill(2)+str(e_msec).zfill(2)\n",
    "        eve = str_day + str_time\n",
    "        #create day folder\n",
    "        if os.path.exists(\"e_waveform/\"+str_day):\n",
    "            pass\n",
    "        else:\n",
    "            os.makedirs(\"e_waveform/\"+str_day)\n",
    "        #create event folder under day folder\n",
    "        if os.path.exists(\"e_waveform/\"+str_day+\"/\"+eve):\n",
    "            shutil.rmtree(\"e_waveform/\"+str_day+\"/\"+eve)\n",
    "        os.makedirs(\"e_waveform/\"+str_day+\"/\"+eve)\n",
    "        #record event waveform status e.g. sta_wf_stats{\"ML01\":False} mean no event waveform of ML01 station \n",
    "        sta_wf_status = {} \n",
    "\n",
    "    elif line[0:8] != \"        \": #Phase line\n",
    "        \n",
    "        net = line[5:7]\n",
    "        sta = re.split(\" +\",line[0:5])[0]\n",
    "        if line[14]==\" \": #S Phase Line\n",
    "            p_type=\"S\"\n",
    "            #if sec or msec is 0, it will be \"  \" in out.arc file\n",
    "            str_sec = line[42:44]; str_sec_m = line[44:46]\n",
    "            if str_sec == \"  \":\n",
    "                str_sec = \"00\"\n",
    "            if str_sec_m == \"  \":\n",
    "                str_sec_m = \"00\"\n",
    "            phs_time = UTCDateTime(line[17:21]+\"-\"+line[21:23]+\"-\"+line[23:25]+\"T\"+\\\n",
    "                               line[25:27]+\":\"+line[27:29]+\":\"+\"00\")+(int(str_sec)+int(str_sec_m)*0.01)\n",
    "        else:\n",
    "            p_type=\"P\"\n",
    "            #if sec or msec is 0, it will be \"  \" in out.arc file\n",
    "            str_sec = line[30:32]; str_sec_m = line[32:34]\n",
    "            if str_sec == \"  \":\n",
    "                str_sec = \"00\"\n",
    "            if str_sec_m == \"  \":\n",
    "                str_sec_m = \"00\"\n",
    "            phs_time = UTCDateTime(line[17:21]+\"-\"+line[21:23]+\"-\"+line[23:25]+\"T\"+\\\n",
    "                               line[25:27]+\":\"+line[27:29]+\":\"+\"00\")+(int(str_sec)+int(str_sec_m)*0.01)\n",
    "        ref_sec = phs_time - e_time\n",
    "        starttime = e_time - 20\n",
    "        endtime = e_time + 60\n",
    "        f_folder=\"./\"+sta #folder of continous waveform\n",
    "        if sta not in sta_wf_status:\n",
    "            for chn in [\"BHZ\"]:\n",
    "            #for chn in [\"BHN\",\"BHE\",\"BHZ\"]:\n",
    "                #get_data function cut waveform from every day continous waveform\n",
    "                status,tr = get_data(net,sta,chn,starttime,endtime,f_folder)\n",
    "                sta_wf_status[sta]=status #status is True or False, True means have waveform, False not.\n",
    "                if status == True:#Successfully get the waveform\n",
    "                    tr.write(\"e_waveform/\"+str_day+\"/\"+eve+f\"/{evid}.{sta}.{chn}\",format=\"SAC\")\n",
    "                    \n",
    "        #Below write in sac information\n",
    "        if sta_wf_status[sta] == True:  #have waveform\n",
    "            if p_type == \"P\":\n",
    "                for chn in [\"BHZ\"]:\n",
    "                #for chn in [\"BHN\",\"BHE\",\"BHZ\"]:\n",
    "                    target_path = os.path.join(pwd, \"e_waveform\",str_day,eve)\n",
    "                    os.chdir(target_path)\n",
    "                    s = f\"r {evid}.{sta}.{chn} \\n\"\n",
    "                    s += f\"ch LOVROK TRUE \\n\"\n",
    "                    s += f\"ch evlo {evlo} evla {evla} \\n\"\n",
    "                    s += f\"ch evdp {evdp} \\n\"\n",
    "                    s += f\"ch stlo {sta_list[sta][1]} stla {sta_list[sta][0]} \\n\"\n",
    "                    s += f\"ch o gmt {year} {jday} {e_hr} {e_min} {e_seconds[:2]} {e_seconds[3:6]}\\n\"\n",
    "                    s += f\"ch allt (0 - &1,o&) iztype IO \\n\"\n",
    "                    s += f\"ch a {ref_sec} \\n\"\n",
    "                    s += f\"w over \\n\"\n",
    "                    s += f\"q \\n\"\n",
    "                    subprocess.Popen(['sac'],stdin=subprocess.PIPE).communicate(s.encode())\n",
    "                    os.chdir(pwd)\n",
    "            elif p_type == \"S\":\n",
    "                for chn in [\"BHZ\"]:\n",
    "                #for chn in [\"BHN\",\"BHE\",\"BHZ\"]:\n",
    "                    target_path = os.path.join(pwd, \"e_waveform\",str_day,eve)\n",
    "                    os.chdir(target_path) #Move to wavform folder and run sac\n",
    "                    s = f\"r {evid}.{sta}.{chn} \\n\"\n",
    "                    s += f\"ch LOVROK TRUE \\n\"\n",
    "                    s += f\"ch evlo {evlo} evla {evla} \\n\"\n",
    "                    s += f\"ch evdp {evdp} \\n\"\n",
    "                    s += f\"ch stlo {sta_list[sta][1]} stla {sta_list[sta][0]} \\n\"\n",
    "                    s += f\"ch o gmt {year} {jday} {e_hr} {e_min} {e_seconds[:2]} {e_seconds[3:6]}\\n\"\n",
    "                    s += f\"ch allt (0 - &1,o&) iztype IO \\n\"\n",
    "                    s += f\"ch t0 {ref_sec} \\n\"\n",
    "                    s += f\"w over \\n\"\n",
    "                    s += f\"q \\n\"\n",
    "                    subprocess.Popen(['sac'],stdin=subprocess.PIPE).communicate(s.encode())\n",
    "                    os.chdir(pwd) #Move back to current working directory        "
   ]
  }
 ],
 "metadata": {
  "kernelspec": {
   "display_name": "Python [conda env:roses]",
   "language": "python",
   "name": "conda-env-roses-py"
  },
  "language_info": {
   "codemirror_mode": {
    "name": "ipython",
    "version": 3
   },
   "file_extension": ".py",
   "mimetype": "text/x-python",
   "name": "python",
   "nbconvert_exporter": "python",
   "pygments_lexer": "ipython3",
   "version": "3.7.8"
  }
 },
 "nbformat": 4,
 "nbformat_minor": 4
}
